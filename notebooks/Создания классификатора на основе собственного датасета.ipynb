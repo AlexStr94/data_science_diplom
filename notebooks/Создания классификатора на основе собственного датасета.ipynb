{
 "cells": [
  {
   "cell_type": "markdown",
   "id": "c43f690d",
   "metadata": {},
   "source": [
    "## Вводная\n",
    "Так как датасет цифр mnist на реальных данных показал точность около 50%, пришлось создавать свой датасет."
   ]
  },
  {
   "cell_type": "markdown",
   "id": "a8e4df64",
   "metadata": {},
   "source": [
    "## Импорты"
   ]
  },
  {
   "cell_type": "code",
   "execution_count": 57,
   "id": "90030f36",
   "metadata": {},
   "outputs": [],
   "source": [
    "%matplotlib inline\n",
    "import os\n",
    "import glob\n",
    "import cv2\n",
    "import numpy as np\n",
    "import matplotlib.pyplot as plt\n",
    "import urllib.request\n",
    "import gzip\n",
    "import zipfile\n",
    "import struct\n",
    "import pickle\n",
    "try:\n",
    "    from PIL import Image\n",
    "except ImportError:\n",
    "    import Image\n",
    "    \n",
    "from sklearn import svm, metrics\n",
    "from sklearn.model_selection import GridSearchCV\n",
    "from sklearn.metrics import accuracy_score\n",
    "from sklearn.neighbors import KNeighborsClassifier\n",
    "from sklearn.ensemble import RandomForestClassifier\n",
    "\n",
    "import tensorflow as tf"
   ]
  },
  {
   "cell_type": "markdown",
   "id": "46d04ebd",
   "metadata": {},
   "source": [
    "## Загрузка данных"
   ]
  },
  {
   "cell_type": "code",
   "execution_count": 37,
   "id": "ea05094e",
   "metadata": {},
   "outputs": [],
   "source": [
    "data_folder = os.path.join(os.getcwd(), '../data/cfu')\n",
    "os.makedirs(data_folder, exist_ok=True)"
   ]
  },
  {
   "cell_type": "code",
   "execution_count": 38,
   "id": "bf1b7cdb",
   "metadata": {},
   "outputs": [
    {
     "data": {
      "text/plain": [
       "('/home/alexstr/Dev/data_science_diplom/notebooks/../data/cfu/targets.npy',\n",
       " <http.client.HTTPMessage at 0x7f4eac7ded30>)"
      ]
     },
     "execution_count": 38,
     "metadata": {},
     "output_type": "execute_result"
    }
   ],
   "source": [
    "urllib.request.urlretrieve('https://cfuvbot.ru/media/datasets/images.npy',\n",
    "                           filename=os.path.join(data_folder, 'images.npy'))\n",
    "urllib.request.urlretrieve('https://cfuvbot.ru/media/datasets/targets.npy',\n",
    "                           filename=os.path.join(data_folder, 'targets.npy'))"
   ]
  },
  {
   "cell_type": "code",
   "execution_count": 39,
   "id": "dd0b8475",
   "metadata": {},
   "outputs": [],
   "source": [
    "images = np.load('../data/cfu/images.npy')\n",
    "targets = np.load('../data/cfu/targets.npy')"
   ]
  },
  {
   "cell_type": "code",
   "execution_count": 40,
   "id": "3c37f946",
   "metadata": {},
   "outputs": [
    {
     "name": "stdout",
     "output_type": "stream",
     "text": [
      "(5388, 784)\n"
     ]
    },
    {
     "data": {
      "text/plain": [
       "(5388,)"
      ]
     },
     "execution_count": 40,
     "metadata": {},
     "output_type": "execute_result"
    }
   ],
   "source": [
    "print(images.shape)\n",
    "targets.shape"
   ]
  },
  {
   "cell_type": "code",
   "execution_count": 41,
   "id": "b5f29e55",
   "metadata": {},
   "outputs": [
    {
     "data": {
      "image/png": "[encoded data removed]",
      "text/plain": [
       "<Figure size 640x480 with 1 Axes>"
      ]
     },
     "metadata": {},
     "output_type": "display_data"
    },
    {
     "data": {
      "text/plain": [
       "5.0"
      ]
     },
     "execution_count": 41,
     "metadata": {},
     "output_type": "execute_result"
    }
   ],
   "source": [
    "plotting = plt.imshow(images[234].reshape(28, 28),cmap='gray_r')\n",
    "plt.show()\n",
    "targets[234]"
   ]
  },
  {
   "cell_type": "markdown",
   "id": "c59f86b7",
   "metadata": {},
   "source": [
    "## Обработка данных"
   ]
  },
  {
   "cell_type": "code",
   "execution_count": 42,
   "id": "80213885",
   "metadata": {},
   "outputs": [],
   "source": [
    "X_train = images[:5000]\n",
    "X_test = images[5000:]\n",
    "y_train = targets[:5000]\n",
    "y_test = targets[5000:]"
   ]
  },
  {
   "cell_type": "code",
   "execution_count": 45,
   "id": "20466e6e",
   "metadata": {},
   "outputs": [
    {
     "data": {
      "text/plain": [
       "(388, 784)"
      ]
     },
     "execution_count": 45,
     "metadata": {},
     "output_type": "execute_result"
    }
   ],
   "source": [
    "X_test.shape"
   ]
  },
  {
   "cell_type": "markdown",
   "id": "9163c378",
   "metadata": {},
   "source": [
    "Предобработка данных для обучения нейронки"
   ]
  },
  {
   "cell_type": "code",
   "execution_count": 46,
   "id": "78744720",
   "metadata": {},
   "outputs": [
    {
     "data": {
      "image/png": "[encoded data removed]",
      "text/plain": [
       "<Figure size 640x480 with 1 Axes>"
      ]
     },
     "metadata": {},
     "output_type": "display_data"
    }
   ],
   "source": [
    "X_nn_train = X_train.reshape(5000, 28, 28)\n",
    "X_nn_test = X_test.reshape(388, 28, 28)\n",
    "plotting = plt.imshow(X_nn_train[0], cmap='gray_r')\n",
    "plt.show()"
   ]
  },
  {
   "cell_type": "markdown",
   "id": "b715ac23",
   "metadata": {},
   "source": [
    "Разработка модели"
   ]
  },
  {
   "cell_type": "code",
   "execution_count": 47,
   "id": "fe92257d",
   "metadata": {},
   "outputs": [
    {
     "name": "stdout",
     "output_type": "stream",
     "text": [
      "The model is 90.20618556701031% accurate\n"
     ]
    }
   ],
   "source": [
    "k_neibors = KNeighborsClassifier()\n",
    "param_grid_neibors = {'n_neighbors': [5, 10, 15, 30]}\n",
    "best_k_neibors = GridSearchCV(k_neibors, param_grid_neibors)\n",
    "\n",
    "best_k_neibors.fit(X_train, y_train)\n",
    "best_k_neibors_pred = best_k_neibors.predict(X_test)\n",
    "print(f\"The model is {accuracy_score(best_k_neibors_pred, y_test)*100}% accurate\")"
   ]
  },
  {
   "cell_type": "code",
   "execution_count": 48,
   "id": "8842c624",
   "metadata": {},
   "outputs": [],
   "source": [
    "model_folder = os.path.join(os.getcwd(), '../models/cfu')\n",
    "os.makedirs(model_folder, exist_ok=True)\n",
    "\n",
    "filename = '../models/cfu/k_neibors_model.sav'\n",
    "pickle.dump(best_k_neibors, open(filename, 'wb'))"
   ]
  },
  {
   "cell_type": "code",
   "execution_count": 49,
   "id": "a358d211",
   "metadata": {},
   "outputs": [
    {
     "name": "stdout",
     "output_type": "stream",
     "text": [
      "The model is 90.20618556701031% accurate\n"
     ]
    }
   ],
   "source": [
    "forest = RandomForestClassifier()\n",
    "param_grid_forest = {\n",
    "    'n_estimators': [10, 20, 50],\n",
    "    'random_state': [0, 5, 20, 40]\n",
    "}\n",
    "best_forest = GridSearchCV(forest, param_grid_forest)\n",
    "best_forest.fit(X_train, y_train)\n",
    "best_forest_pred = best_forest.predict(X_test)\n",
    "print(f\"The model is {accuracy_score(best_forest_pred, y_test)*100}% accurate\")"
   ]
  },
  {
   "cell_type": "code",
   "execution_count": 50,
   "id": "16e5386e",
   "metadata": {},
   "outputs": [],
   "source": [
    "model_folder = os.path.join(os.getcwd(), '../models/cfu')\n",
    "os.makedirs(model_folder, exist_ok=True)\n",
    "\n",
    "filename = '../models/cfu/forest_model.sav'\n",
    "pickle.dump(best_forest, open(filename, 'wb'))"
   ]
  },
  {
   "cell_type": "code",
   "execution_count": 54,
   "id": "e36dd50d",
   "metadata": {},
   "outputs": [
    {
     "name": "stdout",
     "output_type": "stream",
     "text": [
      "The model is 92.78350515463917% accurate\n"
     ]
    }
   ],
   "source": [
    "param_grid={'C':[0.1,1,10,100],'gamma':[0.0001,0.001,0.1,1],'kernel':['rbf','poly']}\n",
    "svc_with_grid_search = svm.SVC(probability=True)\n",
    "best_svc = GridSearchCV(svc_with_grid_search, param_grid)\n",
    "best_svc.fit(X_train, y_train)\n",
    "best_svc_pred = best_svc.predict(X_test)\n",
    "print(f\"The model is {accuracy_score(best_svc_pred, y_test)*100}% accurate\")"
   ]
  },
  {
   "cell_type": "code",
   "execution_count": 55,
   "id": "412e6fc9",
   "metadata": {},
   "outputs": [],
   "source": [
    "model_folder = os.path.join(os.getcwd(), '../models/cfu')\n",
    "os.makedirs(model_folder, exist_ok=True)\n",
    "\n",
    "filename = '../models/cfu/svc_model.sav'\n",
    "pickle.dump(best_svc, open(filename, 'wb'))"
   ]
  },
  {
   "cell_type": "code",
   "execution_count": 58,
   "id": "ce36f16e",
   "metadata": {},
   "outputs": [
    {
     "name": "stdout",
     "output_type": "stream",
     "text": [
      "Classification report for classifier GridSearchCV(estimator=SVC(probability=True),\n",
      "             param_grid={'C': [0.1, 1, 10, 100],\n",
      "                         'gamma': [0.0001, 0.001, 0.1, 1],\n",
      "                         'kernel': ['rbf', 'poly']}):\n",
      "              precision    recall  f1-score   support\n",
      "\n",
      "         0.0       0.97      0.96      0.96        69\n",
      "         1.0       0.97      0.94      0.96        34\n",
      "         2.0       0.93      0.94      0.93        79\n",
      "         3.0       0.87      0.85      0.86        48\n",
      "         4.0       0.93      0.93      0.93        58\n",
      "         5.0       0.93      0.93      0.93        59\n",
      "         6.0       0.88      0.93      0.90        41\n",
      "\n",
      "    accuracy                           0.93       388\n",
      "   macro avg       0.93      0.93      0.93       388\n",
      "weighted avg       0.93      0.93      0.93       388\n",
      "\n",
      "\n"
     ]
    }
   ],
   "source": [
    "print(\n",
    "    f\"Classification report for classifier {best_svc}:\\n\"\n",
    "    f\"{metrics.classification_report(y_test, best_svc_pred)}\\n\"\n",
    ")"
   ]
  },
  {
   "cell_type": "code",
   "execution_count": 51,
   "id": "24219cdc",
   "metadata": {},
   "outputs": [],
   "source": [
    "model = tf.keras.Sequential([\n",
    "    tf.keras.layers.Flatten(input_shape=(28, 28)),\n",
    "    tf.keras.layers.Dense(128, activation='relu'),\n",
    "    tf.keras.layers.Dense(64, activation='relu'),\n",
    "    tf.keras.layers.Dense(7)\n",
    "])\n",
    "\n",
    "model.compile(optimizer='adam',\n",
    "              loss=tf.keras.losses.SparseCategoricalCrossentropy(from_logits=True),\n",
    "              metrics=['accuracy'])"
   ]
  },
  {
   "cell_type": "code",
   "execution_count": 52,
   "id": "59dcfa7c",
   "metadata": {},
   "outputs": [
    {
     "name": "stdout",
     "output_type": "stream",
     "text": [
      "Epoch 1/50\n",
      "110/110 [==============================] - 1s 4ms/step - loss: 1.0814 - accuracy: 0.6380 - val_loss: 0.7478 - val_accuracy: 0.7487\n",
      "Epoch 2/50\n",
      "110/110 [==============================] - 0s 3ms/step - loss: 0.4662 - accuracy: 0.8609 - val_loss: 0.5282 - val_accuracy: 0.8460\n",
      "Epoch 3/50\n",
      "110/110 [==============================] - 0s 3ms/step - loss: 0.2590 - accuracy: 0.9266 - val_loss: 0.4728 - val_accuracy: 0.8473\n",
      "Epoch 4/50\n",
      "110/110 [==============================] - 0s 3ms/step - loss: 0.1485 - accuracy: 0.9631 - val_loss: 0.4143 - val_accuracy: 0.8713\n",
      "Epoch 5/50\n",
      "110/110 [==============================] - 0s 3ms/step - loss: 0.0903 - accuracy: 0.9826 - val_loss: 0.3957 - val_accuracy: 0.8700\n",
      "Epoch 6/50\n",
      "110/110 [==============================] - 0s 3ms/step - loss: 0.0531 - accuracy: 0.9923 - val_loss: 0.4966 - val_accuracy: 0.8527\n",
      "Epoch 7/50\n",
      "110/110 [==============================] - 0s 3ms/step - loss: 0.0281 - accuracy: 0.9963 - val_loss: 0.3711 - val_accuracy: 0.8840\n",
      "Epoch 8/50\n",
      "110/110 [==============================] - 0s 3ms/step - loss: 0.0170 - accuracy: 0.9986 - val_loss: 0.3844 - val_accuracy: 0.8933\n",
      "Epoch 9/50\n",
      "110/110 [==============================] - 0s 3ms/step - loss: 0.0106 - accuracy: 0.9997 - val_loss: 0.3663 - val_accuracy: 0.8993\n",
      "Epoch 10/50\n",
      "110/110 [==============================] - 0s 3ms/step - loss: 0.0072 - accuracy: 1.0000 - val_loss: 0.3776 - val_accuracy: 0.8953\n",
      "Epoch 11/50\n",
      "110/110 [==============================] - 0s 3ms/step - loss: 0.0054 - accuracy: 1.0000 - val_loss: 0.3783 - val_accuracy: 0.8953\n",
      "Epoch 12/50\n",
      "110/110 [==============================] - 0s 3ms/step - loss: 0.0041 - accuracy: 1.0000 - val_loss: 0.3876 - val_accuracy: 0.8967\n",
      "Epoch 13/50\n",
      "110/110 [==============================] - 0s 3ms/step - loss: 0.0033 - accuracy: 1.0000 - val_loss: 0.3995 - val_accuracy: 0.8967\n",
      "Epoch 14/50\n",
      "110/110 [==============================] - 0s 3ms/step - loss: 0.0027 - accuracy: 1.0000 - val_loss: 0.3952 - val_accuracy: 0.8973\n",
      "Epoch 15/50\n",
      "110/110 [==============================] - 0s 3ms/step - loss: 0.0022 - accuracy: 1.0000 - val_loss: 0.4100 - val_accuracy: 0.8913\n",
      "Epoch 16/50\n",
      "110/110 [==============================] - 0s 3ms/step - loss: 0.0019 - accuracy: 1.0000 - val_loss: 0.4130 - val_accuracy: 0.8947\n",
      "Epoch 17/50\n",
      "110/110 [==============================] - 0s 3ms/step - loss: 0.0016 - accuracy: 1.0000 - val_loss: 0.4088 - val_accuracy: 0.8973\n",
      "Epoch 18/50\n",
      "110/110 [==============================] - 0s 3ms/step - loss: 0.0014 - accuracy: 1.0000 - val_loss: 0.4237 - val_accuracy: 0.8927\n",
      "Epoch 19/50\n",
      "110/110 [==============================] - 0s 3ms/step - loss: 0.0012 - accuracy: 1.0000 - val_loss: 0.4226 - val_accuracy: 0.8953\n",
      "Epoch 20/50\n",
      "110/110 [==============================] - 0s 3ms/step - loss: 0.0011 - accuracy: 1.0000 - val_loss: 0.4334 - val_accuracy: 0.8940\n",
      "Epoch 21/50\n",
      "110/110 [==============================] - 0s 3ms/step - loss: 9.2828e-04 - accuracy: 1.0000 - val_loss: 0.4279 - val_accuracy: 0.8953\n",
      "Epoch 22/50\n",
      "110/110 [==============================] - 0s 3ms/step - loss: 8.2203e-04 - accuracy: 1.0000 - val_loss: 0.4299 - val_accuracy: 0.8973\n",
      "Epoch 23/50\n",
      "110/110 [==============================] - 0s 3ms/step - loss: 7.2764e-04 - accuracy: 1.0000 - val_loss: 0.4429 - val_accuracy: 0.8967\n",
      "Epoch 24/50\n",
      "110/110 [==============================] - 0s 3ms/step - loss: 6.4666e-04 - accuracy: 1.0000 - val_loss: 0.4448 - val_accuracy: 0.8947\n",
      "Epoch 25/50\n",
      "110/110 [==============================] - 0s 3ms/step - loss: 5.7957e-04 - accuracy: 1.0000 - val_loss: 0.4451 - val_accuracy: 0.8973\n",
      "Epoch 26/50\n",
      "110/110 [==============================] - 0s 3ms/step - loss: 5.2131e-04 - accuracy: 1.0000 - val_loss: 0.4508 - val_accuracy: 0.8953\n",
      "Epoch 27/50\n",
      "110/110 [==============================] - 0s 3ms/step - loss: 4.6065e-04 - accuracy: 1.0000 - val_loss: 0.4554 - val_accuracy: 0.8940\n",
      "Epoch 28/50\n",
      "110/110 [==============================] - 0s 3ms/step - loss: 4.1630e-04 - accuracy: 1.0000 - val_loss: 0.4540 - val_accuracy: 0.8960\n",
      "Epoch 29/50\n",
      "110/110 [==============================] - 0s 3ms/step - loss: 3.7469e-04 - accuracy: 1.0000 - val_loss: 0.4581 - val_accuracy: 0.8967\n",
      "Epoch 30/50\n",
      "110/110 [==============================] - 0s 3ms/step - loss: 3.3820e-04 - accuracy: 1.0000 - val_loss: 0.4633 - val_accuracy: 0.8953\n",
      "Epoch 31/50\n",
      "110/110 [==============================] - 0s 3ms/step - loss: 3.0583e-04 - accuracy: 1.0000 - val_loss: 0.4686 - val_accuracy: 0.8953\n",
      "Epoch 32/50\n",
      "110/110 [==============================] - 0s 3ms/step - loss: 2.7901e-04 - accuracy: 1.0000 - val_loss: 0.4667 - val_accuracy: 0.8960\n",
      "Epoch 33/50\n",
      "110/110 [==============================] - 0s 3ms/step - loss: 2.5355e-04 - accuracy: 1.0000 - val_loss: 0.4779 - val_accuracy: 0.8933\n",
      "Epoch 34/50\n",
      "110/110 [==============================] - 0s 3ms/step - loss: 2.3158e-04 - accuracy: 1.0000 - val_loss: 0.4775 - val_accuracy: 0.8967\n",
      "Epoch 35/50\n",
      "110/110 [==============================] - 0s 3ms/step - loss: 2.1037e-04 - accuracy: 1.0000 - val_loss: 0.4735 - val_accuracy: 0.8967\n",
      "Epoch 36/50\n",
      "110/110 [==============================] - 0s 3ms/step - loss: 1.9352e-04 - accuracy: 1.0000 - val_loss: 0.4835 - val_accuracy: 0.8953\n",
      "Epoch 37/50\n",
      "110/110 [==============================] - 0s 3ms/step - loss: 1.7691e-04 - accuracy: 1.0000 - val_loss: 0.4862 - val_accuracy: 0.8953\n",
      "Epoch 38/50\n",
      "110/110 [==============================] - 0s 3ms/step - loss: 1.6200e-04 - accuracy: 1.0000 - val_loss: 0.4889 - val_accuracy: 0.8967\n",
      "Epoch 39/50\n",
      "110/110 [==============================] - 0s 3ms/step - loss: 1.4945e-04 - accuracy: 1.0000 - val_loss: 0.4946 - val_accuracy: 0.8947\n",
      "Epoch 40/50\n",
      "110/110 [==============================] - 0s 3ms/step - loss: 1.3681e-04 - accuracy: 1.0000 - val_loss: 0.4992 - val_accuracy: 0.8953\n",
      "Epoch 41/50\n",
      "110/110 [==============================] - 0s 3ms/step - loss: 1.2552e-04 - accuracy: 1.0000 - val_loss: 0.5030 - val_accuracy: 0.8953\n",
      "Epoch 42/50\n",
      "110/110 [==============================] - 0s 3ms/step - loss: 1.1613e-04 - accuracy: 1.0000 - val_loss: 0.5022 - val_accuracy: 0.8967\n",
      "Epoch 43/50\n",
      "110/110 [==============================] - 0s 3ms/step - loss: 1.0713e-04 - accuracy: 1.0000 - val_loss: 0.5028 - val_accuracy: 0.8967\n",
      "Epoch 44/50\n",
      "110/110 [==============================] - 0s 3ms/step - loss: 9.9015e-05 - accuracy: 1.0000 - val_loss: 0.5033 - val_accuracy: 0.8980\n",
      "Epoch 45/50\n",
      "110/110 [==============================] - 0s 3ms/step - loss: 9.1236e-05 - accuracy: 1.0000 - val_loss: 0.5077 - val_accuracy: 0.8980\n",
      "Epoch 46/50\n",
      "110/110 [==============================] - 0s 3ms/step - loss: 8.4294e-05 - accuracy: 1.0000 - val_loss: 0.5111 - val_accuracy: 0.8967\n",
      "Epoch 47/50\n",
      "110/110 [==============================] - 0s 3ms/step - loss: 7.7994e-05 - accuracy: 1.0000 - val_loss: 0.5175 - val_accuracy: 0.8973\n",
      "Epoch 48/50\n",
      "110/110 [==============================] - 0s 3ms/step - loss: 7.2051e-05 - accuracy: 1.0000 - val_loss: 0.5217 - val_accuracy: 0.8953\n",
      "Epoch 49/50\n",
      "110/110 [==============================] - 0s 3ms/step - loss: 6.6751e-05 - accuracy: 1.0000 - val_loss: 0.5275 - val_accuracy: 0.8953\n",
      "Epoch 50/50\n",
      "110/110 [==============================] - 0s 3ms/step - loss: 6.2090e-05 - accuracy: 1.0000 - val_loss: 0.5277 - val_accuracy: 0.8980\n",
      "Точность на тестовом множестве: 0.9046391844749451\n"
     ]
    }
   ],
   "source": [
    "model.fit(X_nn_train, y_train, epochs=50, validation_split=0.3)\n",
    "\n",
    "test_loss, test_acc = model.evaluate(X_nn_test,  y_test, verbose=0)\n",
    "\n",
    "print('Точность на тестовом множестве:', test_acc)"
   ]
  },
  {
   "cell_type": "code",
   "execution_count": 59,
   "id": "03bac76a",
   "metadata": {},
   "outputs": [],
   "source": [
    "model.save('../models/cfu/nn_model.h5', save_format=\"h5\")"
   ]
  },
  {
   "cell_type": "code",
   "execution_count": 60,
   "id": "6614f560",
   "metadata": {},
   "outputs": [],
   "source": [
    "loaded_model = tf.keras.models.load_model('../models/cfu/nn_model.h5')"
   ]
  },
  {
   "cell_type": "code",
   "execution_count": 66,
   "id": "d357ae42",
   "metadata": {},
   "outputs": [],
   "source": [
    "probability_model = tf.keras.Sequential([loaded_model, \n",
    "                                         tf.keras.layers.Softmax()])\n"
   ]
  },
  {
   "cell_type": "code",
   "execution_count": 84,
   "id": "3c18764f",
   "metadata": {},
   "outputs": [
    {
     "data": {
      "text/plain": [
       "(1, 28, 28)"
      ]
     },
     "execution_count": 84,
     "metadata": {},
     "output_type": "execute_result"
    }
   ],
   "source": [
    "test_image = np.array([X_nn_test[84]])\n",
    "test_image.shape"
   ]
  },
  {
   "cell_type": "code",
   "execution_count": 85,
   "id": "1e86b717",
   "metadata": {},
   "outputs": [
    {
     "name": "stdout",
     "output_type": "stream",
     "text": [
      "1/1 [==============================] - 0s 14ms/step\n"
     ]
    },
    {
     "data": {
      "text/plain": [
       "6"
      ]
     },
     "execution_count": 85,
     "metadata": {},
     "output_type": "execute_result"
    }
   ],
   "source": [
    "predictions = probability_model.predict(test_image)\n",
    "np.argmax(predictions[0])\n",
    "\n"
   ]
  },
  {
   "cell_type": "code",
   "execution_count": 86,
   "id": "954681c7",
   "metadata": {},
   "outputs": [
    {
     "data": {
      "image/png": "[encoded data removed]",
      "text/plain": [
       "<Figure size 640x480 with 1 Axes>"
      ]
     },
     "metadata": {},
     "output_type": "display_data"
    }
   ],
   "source": [
    "plotting = plt.imshow(X_nn_train[84], cmap='gray_r')\n",
    "plt.show()"
   ]
  },
  {
   "cell_type": "code",
   "execution_count": 87,
   "id": "54ea252f",
   "metadata": {},
   "outputs": [
    {
     "data": {
      "text/plain": [
       "2.0"
      ]
     },
     "execution_count": 87,
     "metadata": {},
     "output_type": "execute_result"
    }
   ],
   "source": [
    "y_train[84]"
   ]
  }
 ],
 "metadata": {
  "kernelspec": {
   "display_name": "Python 3 (ipykernel)",
   "language": "python",
   "name": "python3"
  },
  "language_info": {
   "codemirror_mode": {
    "name": "ipython",
    "version": 3
   },
   "file_extension": ".py",
   "mimetype": "text/x-python",
   "name": "python",
   "nbconvert_exporter": "python",
   "pygments_lexer": "ipython3",
   "version": "3.8.10"
  }
 },
 "nbformat": 4,
 "nbformat_minor": 5
}
