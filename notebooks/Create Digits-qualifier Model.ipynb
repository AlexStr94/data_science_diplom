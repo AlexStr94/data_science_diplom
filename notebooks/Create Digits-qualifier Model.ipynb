{
 "cells": [
  {
   "cell_type": "markdown",
   "id": "f52520b4",
   "metadata": {},
   "source": [
    "## Импорты"
   ]
  },
  {
   "cell_type": "code",
   "execution_count": 1,
   "id": "6ad98b41",
   "metadata": {},
   "outputs": [
    {
     "name": "stderr",
     "output_type": "stream",
     "text": [
      "2022-11-22 18:06:58.595769: I tensorflow/core/platform/cpu_feature_guard.cc:193] This TensorFlow binary is optimized with oneAPI Deep Neural Network Library (oneDNN) to use the following CPU instructions in performance-critical operations:  AVX2 AVX512F AVX512_VNNI FMA\n",
      "To enable them in other operations, rebuild TensorFlow with the appropriate compiler flags.\n",
      "2022-11-22 18:06:59.045268: I tensorflow/core/util/port.cc:104] oneDNN custom operations are on. You may see slightly different numerical results due to floating-point round-off errors from different computation orders. To turn them off, set the environment variable `TF_ENABLE_ONEDNN_OPTS=0`.\n",
      "2022-11-22 18:06:59.131154: W tensorflow/compiler/xla/stream_executor/platform/default/dso_loader.cc:64] Could not load dynamic library 'libcudart.so.11.0'; dlerror: libcudart.so.11.0: cannot open shared object file: No such file or directory; LD_LIBRARY_PATH: /home/alexstr/Dev/data_science_diplom/venv/lib/python3.8/site-packages/cv2/../../lib64:\n",
      "2022-11-22 18:06:59.131176: I tensorflow/compiler/xla/stream_executor/cuda/cudart_stub.cc:29] Ignore above cudart dlerror if you do not have a GPU set up on your machine.\n",
      "2022-11-22 18:07:00.499712: W tensorflow/compiler/xla/stream_executor/platform/default/dso_loader.cc:64] Could not load dynamic library 'libnvinfer.so.7'; dlerror: libnvinfer.so.7: cannot open shared object file: No such file or directory; LD_LIBRARY_PATH: /home/alexstr/Dev/data_science_diplom/venv/lib/python3.8/site-packages/cv2/../../lib64:\n",
      "2022-11-22 18:07:00.499868: W tensorflow/compiler/xla/stream_executor/platform/default/dso_loader.cc:64] Could not load dynamic library 'libnvinfer_plugin.so.7'; dlerror: libnvinfer_plugin.so.7: cannot open shared object file: No such file or directory; LD_LIBRARY_PATH: /home/alexstr/Dev/data_science_diplom/venv/lib/python3.8/site-packages/cv2/../../lib64:\n",
      "2022-11-22 18:07:00.499875: W tensorflow/compiler/tf2tensorrt/utils/py_utils.cc:38] TF-TRT Warning: Cannot dlopen some TensorRT libraries. If you would like to use Nvidia GPU with TensorRT, please make sure the missing libraries mentioned above are installed properly.\n"
     ]
    }
   ],
   "source": [
    "%matplotlib inline\n",
    "import os\n",
    "import glob\n",
    "import cv2\n",
    "import numpy as np\n",
    "import matplotlib.pyplot as plt\n",
    "import urllib.request\n",
    "import gzip\n",
    "import zipfile\n",
    "import struct\n",
    "import pickle\n",
    "try:\n",
    "    from PIL import Image\n",
    "except ImportError:\n",
    "    import Image\n",
    "    \n",
    "from sklearn import svm\n",
    "from sklearn.model_selection import GridSearchCV\n",
    "from sklearn.metrics import accuracy_score\n",
    "from sklearn.neighbors import KNeighborsClassifier\n",
    "from sklearn.ensemble import RandomForestClassifier\n",
    "\n",
    "import tensorflow as tf"
   ]
  },
  {
   "cell_type": "markdown",
   "id": "f2136f43",
   "metadata": {},
   "source": [
    "## Загрузка и обработка данных\n",
    "В данном файле использую уже готовые датасеты."
   ]
  },
  {
   "cell_type": "code",
   "execution_count": 2,
   "id": "cca0cb84",
   "metadata": {},
   "outputs": [],
   "source": [
    "# Загружаем данные изображений цифр\n",
    "data_folder = os.path.join(os.getcwd(), '../data/mnist')\n",
    "os.makedirs(data_folder, exist_ok=True)"
   ]
  },
  {
   "cell_type": "code",
   "execution_count": 3,
   "id": "6f204764",
   "metadata": {},
   "outputs": [
    {
     "data": {
      "text/plain": [
       "('/home/alexstr/Dev/data_science_diplom/notebooks/../data/mnist/test-labels.gz',\n",
       " <http.client.HTTPMessage at 0x7fa58746e3a0>)"
      ]
     },
     "execution_count": 3,
     "metadata": {},
     "output_type": "execute_result"
    }
   ],
   "source": [
    "urllib.request.urlretrieve('https://azureopendatastorage.blob.core.windows.net/mnist/train-images-idx3-ubyte.gz',\n",
    "                           filename=os.path.join(data_folder, 'train-images.gz'))\n",
    "urllib.request.urlretrieve('https://azureopendatastorage.blob.core.windows.net/mnist/train-labels-idx1-ubyte.gz',\n",
    "                           filename=os.path.join(data_folder, 'train-labels.gz'))\n",
    "urllib.request.urlretrieve('https://azureopendatastorage.blob.core.windows.net/mnist/t10k-images-idx3-ubyte.gz',\n",
    "                           filename=os.path.join(data_folder, 'test-images.gz'))\n",
    "urllib.request.urlretrieve('https://azureopendatastorage.blob.core.windows.net/mnist/t10k-labels-idx1-ubyte.gz',\n",
    "                           filename=os.path.join(data_folder, 'test-labels.gz'))"
   ]
  },
  {
   "cell_type": "code",
   "execution_count": 3,
   "id": "798148ff",
   "metadata": {},
   "outputs": [],
   "source": [
    "# Загружаем данные киррилицы\n",
    "comnist_data_folder = os.path.join(os.getcwd(), '../data/comnist')\n",
    "os.makedirs(comnist_data_folder, exist_ok=True)"
   ]
  },
  {
   "cell_type": "code",
   "execution_count": 21,
   "id": "6fbdf441",
   "metadata": {},
   "outputs": [
    {
     "data": {
      "text/plain": [
       "('/home/alexstr/Dev/data_science_diplom/notebooks/../data/comnist/cyrillic.zip',\n",
       " <http.client.HTTPMessage at 0x7f3e392d3ca0>)"
      ]
     },
     "execution_count": 21,
     "metadata": {},
     "output_type": "execute_result"
    }
   ],
   "source": [
    "urllib.request.urlretrieve('https://github.com/GregVial/CoMNIST/raw/master/images/Cyrillic.zip',\n",
    "                          filename=os.path.join(comnist_data_folder, 'cyrillic.zip'))"
   ]
  },
  {
   "cell_type": "code",
   "execution_count": 10,
   "id": "32d303ad",
   "metadata": {},
   "outputs": [],
   "source": [
    "# Разархивируем только буку \"Н\"\n",
    "archive = zipfile.ZipFile('../data/comnist/cyrillic.zip')\n",
    "n_path = '../data/comnist'\n",
    "    \n",
    "for file in archive.namelist():\n",
    "    if file.startswith('Cyrillic/Н/'):\n",
    "        archive.extract(file, n_path)"
   ]
  },
  {
   "cell_type": "code",
   "execution_count": 4,
   "id": "c2dda524",
   "metadata": {},
   "outputs": [
    {
     "data": {
      "image/png": "[encoded data removed]",
      "text/plain": [
       "<Figure size 640x480 with 1 Axes>"
      ]
     },
     "metadata": {},
     "output_type": "display_data"
    }
   ],
   "source": [
    "# Считываем пути ко всем буквам \"н\"\n",
    "filelist = glob.glob('../data/comnist/Cyrillic/Н/*.png')\n",
    "\n",
    "# Создаем массив с изображениями, удаляя лишнии каналы\n",
    "n_letters = np.array([(np.array(Image.open(fname)))[:, :, 3] for fname in filelist])\n",
    "\n",
    "# Преобразуем размер до 28*28 в одном измерении\n",
    "n_letters = np.array([cv2.resize(letter, (28, 28), interpolation = cv2.INTER_AREA) for letter in n_letters])\n",
    "\n",
    "plotting = plt.imshow(n_letters[0], cmap='gray_r')\n",
    "plt.show()\n",
    "\n",
    "# Конвертируем в формат, пригодный для обучения модели\n",
    "n_letters = n_letters.reshape(508, 784,) / 255"
   ]
  },
  {
   "cell_type": "code",
   "execution_count": 5,
   "id": "67ceda03",
   "metadata": {
    "scrolled": false
   },
   "outputs": [
    {
     "name": "stdout",
     "output_type": "stream",
     "text": [
      "[0.         0.         0.         0.         0.         0.\n",
      " 0.         0.         0.         0.         0.         0.\n",
      " 0.         0.         0.         0.         0.         0.\n",
      " 0.         0.         0.         0.         0.         0.\n",
      " 0.         0.         0.         0.         0.         0.\n",
      " 0.         0.         0.         0.         0.         0.\n",
      " 0.         0.         0.         0.         0.         0.\n",
      " 0.         0.         0.         0.         0.         0.\n",
      " 0.         0.         0.         0.         0.         0.\n",
      " 0.         0.         0.         0.         0.         0.\n",
      " 0.         0.         0.         0.         0.         0.\n",
      " 0.         0.         0.         0.         0.         0.\n",
      " 0.         0.         0.         0.         0.         0.\n",
      " 0.         0.         0.         0.         0.         0.\n",
      " 0.         0.         0.         0.         0.         0.00392157\n",
      " 0.40392157 0.08627451 0.         0.         0.         0.\n",
      " 0.         0.         0.         0.         0.10196078 0.45490196\n",
      " 0.00784314 0.         0.         0.         0.         0.\n",
      " 0.         0.         0.         0.         0.         0.\n",
      " 0.         0.         0.         0.0745098  0.99607843 0.43137255\n",
      " 0.         0.         0.         0.         0.         0.\n",
      " 0.         0.         0.4        1.         0.10196078 0.\n",
      " 0.         0.         0.         0.         0.         0.\n",
      " 0.         0.         0.         0.         0.         0.\n",
      " 0.         0.01568627 0.96862745 0.53333333 0.         0.\n",
      " 0.         0.         0.         0.         0.         0.\n",
      " 0.39607843 1.         0.11764706 0.         0.         0.\n",
      " 0.         0.         0.         0.         0.         0.\n",
      " 0.         0.         0.         0.         0.         0.\n",
      " 0.90588235 0.61176471 0.         0.         0.         0.\n",
      " 0.         0.         0.         0.         0.35686275 1.\n",
      " 0.15294118 0.         0.         0.         0.         0.\n",
      " 0.         0.         0.         0.         0.         0.\n",
      " 0.         0.         0.         0.         0.79607843 0.72941176\n",
      " 0.         0.         0.         0.         0.         0.\n",
      " 0.         0.         0.35686275 1.         0.15294118 0.\n",
      " 0.         0.         0.         0.         0.         0.\n",
      " 0.         0.         0.         0.         0.         0.\n",
      " 0.         0.         0.65490196 0.86666667 0.         0.\n",
      " 0.         0.         0.         0.         0.         0.\n",
      " 0.35686275 1.         0.15294118 0.         0.         0.\n",
      " 0.         0.         0.         0.         0.         0.\n",
      " 0.         0.         0.         0.         0.         0.\n",
      " 0.54117647 0.96470588 0.01568627 0.         0.         0.\n",
      " 0.         0.         0.         0.         0.35686275 1.\n",
      " 0.15294118 0.         0.         0.         0.         0.\n",
      " 0.         0.         0.         0.         0.         0.\n",
      " 0.         0.         0.         0.         0.43137255 1.\n",
      " 0.09019608 0.         0.         0.         0.         0.\n",
      " 0.         0.         0.35686275 1.         0.15294118 0.\n",
      " 0.         0.         0.         0.         0.         0.\n",
      " 0.         0.         0.         0.         0.         0.\n",
      " 0.         0.         0.3372549  1.         0.39215686 0.39215686\n",
      " 0.39215686 0.39215686 0.39215686 0.42352941 0.49019608 0.47843137\n",
      " 0.43921569 1.         0.15294118 0.         0.         0.\n",
      " 0.         0.         0.         0.         0.         0.\n",
      " 0.         0.         0.         0.         0.         0.\n",
      " 0.26666667 1.         0.7372549  1.         1.         1.\n",
      " 1.         1.         0.99607843 0.98823529 0.63529412 1.\n",
      " 0.15294118 0.         0.         0.         0.         0.\n",
      " 0.         0.         0.         0.         0.         0.\n",
      " 0.         0.         0.         0.         0.24313725 1.\n",
      " 0.28627451 0.13333333 0.11764706 0.11764706 0.11764706 0.09411765\n",
      " 0.02745098 0.01568627 0.35686275 1.         0.15294118 0.\n",
      " 0.         0.         0.         0.         0.         0.\n",
      " 0.         0.         0.         0.         0.         0.\n",
      " 0.         0.         0.25098039 1.         0.25882353 0.\n",
      " 0.         0.         0.         0.         0.         0.\n",
      " 0.4        1.         0.11372549 0.         0.         0.\n",
      " 0.         0.         0.         0.         0.         0.\n",
      " 0.         0.         0.         0.         0.         0.\n",
      " 0.21568627 1.         0.30196078 0.         0.         0.\n",
      " 0.         0.         0.         0.         0.42745098 1.\n",
      " 0.08627451 0.         0.         0.         0.         0.\n",
      " 0.         0.         0.         0.         0.         0.\n",
      " 0.         0.         0.         0.         0.12941176 1.\n",
      " 0.38823529 0.         0.         0.         0.         0.\n",
      " 0.         0.         0.49803922 0.98823529 0.02745098 0.\n",
      " 0.         0.         0.         0.         0.         0.\n",
      " 0.         0.         0.         0.         0.         0.\n",
      " 0.         0.         0.03921569 0.98431373 0.49411765 0.\n",
      " 0.         0.         0.         0.         0.         0.\n",
      " 0.52156863 0.97254902 0.01960784 0.         0.         0.\n",
      " 0.         0.         0.         0.         0.         0.\n",
      " 0.         0.         0.         0.         0.         0.\n",
      " 0.         0.90588235 0.61568627 0.         0.         0.\n",
      " 0.         0.         0.         0.         0.56862745 0.94509804\n",
      " 0.00784314 0.         0.         0.         0.         0.\n",
      " 0.         0.         0.         0.         0.         0.\n",
      " 0.         0.         0.         0.         0.         0.78039216\n",
      " 0.74117647 0.         0.         0.         0.         0.\n",
      " 0.         0.         0.42745098 0.63137255 0.         0.\n",
      " 0.         0.         0.         0.         0.         0.\n",
      " 0.         0.         0.         0.         0.         0.\n",
      " 0.         0.         0.         0.55686275 0.56470588 0.\n",
      " 0.         0.         0.         0.         0.         0.\n",
      " 0.         0.         0.         0.         0.         0.\n",
      " 0.         0.         0.         0.         0.         0.\n",
      " 0.         0.         0.         0.         0.         0.\n",
      " 0.         0.         0.         0.         0.         0.\n",
      " 0.         0.         0.         0.         0.         0.\n",
      " 0.         0.         0.         0.         0.         0.\n",
      " 0.         0.         0.         0.         0.         0.\n",
      " 0.         0.         0.         0.         0.         0.\n",
      " 0.         0.         0.         0.         0.         0.\n",
      " 0.         0.         0.         0.         0.         0.\n",
      " 0.         0.         0.         0.         0.         0.\n",
      " 0.         0.         0.         0.         0.         0.\n",
      " 0.         0.         0.         0.         0.         0.\n",
      " 0.         0.         0.         0.         0.         0.\n",
      " 0.         0.         0.         0.         0.         0.\n",
      " 0.         0.         0.         0.         0.         0.\n",
      " 0.         0.         0.         0.         0.         0.\n",
      " 0.         0.         0.         0.         0.         0.\n",
      " 0.         0.         0.         0.         0.         0.\n",
      " 0.         0.         0.         0.         0.         0.\n",
      " 0.         0.         0.         0.         0.         0.\n",
      " 0.         0.         0.         0.         0.         0.\n",
      " 0.         0.         0.         0.         0.         0.\n",
      " 0.         0.         0.         0.         0.         0.\n",
      " 0.         0.         0.         0.         0.         0.\n",
      " 0.         0.         0.         0.         0.         0.\n",
      " 0.         0.         0.         0.         0.         0.\n",
      " 0.         0.         0.         0.         0.         0.\n",
      " 0.         0.         0.         0.         0.         0.\n",
      " 0.         0.         0.         0.         0.         0.\n",
      " 0.         0.         0.         0.         0.         0.\n",
      " 0.         0.         0.         0.         0.         0.\n",
      " 0.         0.         0.         0.         0.         0.\n",
      " 0.         0.         0.         0.         0.         0.\n",
      " 0.         0.         0.         0.        ]\n"
     ]
    },
    {
     "data": {
      "image/png": "[encoded data removed]",
      "text/plain": [
       "<Figure size 640x480 with 1 Axes>"
      ]
     },
     "metadata": {},
     "output_type": "display_data"
    }
   ],
   "source": [
    "# Проверяем, что преобразования сделаны корректно\n",
    "with np.printoptions(threshold=np.inf):\n",
    "    print(n_letters[0])\n",
    "\n",
    "letter = n_letters[0]\n",
    "letter = letter.reshape(28,28)\n",
    "plotting = plt.imshow(letter, cmap='gray_r')\n",
    "plt.show()"
   ]
  },
  {
   "cell_type": "code",
   "execution_count": 12,
   "id": "3f224311",
   "metadata": {},
   "outputs": [],
   "source": [
    "# Делим на обучающую и тестовую выборку\n",
    "x_n_letters_test = n_letters[430:]\n",
    "x_n_letters_train = n_letters[:430]\n"
   ]
  },
  {
   "cell_type": "code",
   "execution_count": 13,
   "id": "dbc0825c",
   "metadata": {},
   "outputs": [
    {
     "data": {
      "text/plain": [
       "(430,)"
      ]
     },
     "execution_count": 13,
     "metadata": {},
     "output_type": "execute_result"
    }
   ],
   "source": [
    "y_n_letters_test = np.full(78, 6, dtype='float')\n",
    "y_n_letters_train = np.full(430, 6, dtype='float')\n",
    "y_n_letters_train.shape"
   ]
  },
  {
   "cell_type": "code",
   "execution_count": 14,
   "id": "321be9ab",
   "metadata": {},
   "outputs": [],
   "source": [
    "# load compressed MNIST gz files and return numpy arrays\n",
    "def load_data(filename, label=False):\n",
    "    with gzip.open(filename) as gz:\n",
    "        struct.unpack('I', gz.read(4))\n",
    "        n_items = struct.unpack('>I', gz.read(4))\n",
    "        if not label:\n",
    "            n_rows = struct.unpack('>I', gz.read(4))[0]\n",
    "            n_cols = struct.unpack('>I', gz.read(4))[0]\n",
    "            res = np.frombuffer(gz.read(n_items[0] * n_rows * n_cols), dtype=np.uint8)\n",
    "            res = res.reshape(n_items[0], n_rows * n_cols)\n",
    "        else:\n",
    "            res = np.frombuffer(gz.read(n_items[0]), dtype=np.uint8)\n",
    "            res = res.reshape(n_items[0], 1)\n",
    "    return res"
   ]
  },
  {
   "cell_type": "code",
   "execution_count": 15,
   "id": "16506faa",
   "metadata": {},
   "outputs": [],
   "source": [
    "# note we also shrink the intensity values (X) from 0-255 to 0-1. This helps the model converge faster.\n",
    "X_train = load_data(os.path.join(\n",
    "    data_folder, 'train-images.gz'), False) / 255.0\n",
    "X_test = load_data(os.path.join(data_folder, 'test-images.gz'), False) / 255.0\n",
    "y_train = load_data(os.path.join(\n",
    "    data_folder, 'train-labels.gz'), True)\n",
    "y_test = load_data(os.path.join(\n",
    "    data_folder, 'test-labels.gz'), True)"
   ]
  },
  {
   "cell_type": "code",
   "execution_count": 16,
   "id": "4187c7e7",
   "metadata": {},
   "outputs": [],
   "source": [
    "y_train = y_train.reshape(60000,)\n",
    "\n",
    "y_test = y_test.reshape(10000,)"
   ]
  },
  {
   "cell_type": "code",
   "execution_count": 17,
   "id": "ed9d9c25",
   "metadata": {},
   "outputs": [],
   "source": [
    "train_filter = np.where((y_train < 6))\n",
    "test_filter = np.where((y_test < 6))"
   ]
  },
  {
   "cell_type": "code",
   "execution_count": 18,
   "id": "6330ec8d",
   "metadata": {},
   "outputs": [],
   "source": [
    "# Убираем лишние цифры\n",
    "X_train, y_train = X_train[train_filter], y_train[train_filter]\n",
    "X_test, y_test = X_test[test_filter], y_test[test_filter]"
   ]
  },
  {
   "cell_type": "code",
   "execution_count": 19,
   "id": "50d63f3e",
   "metadata": {},
   "outputs": [],
   "source": [
    "# Объединяем все массивы\n",
    "X_train = np.concatenate((X_train, x_n_letters_train))\n",
    "X_test = np.concatenate((X_test, x_n_letters_test))\n",
    "\n",
    "y_train = np.concatenate((y_train, y_n_letters_train))\n",
    "y_test = np.concatenate((y_test, y_n_letters_test))"
   ]
  },
  {
   "cell_type": "markdown",
   "id": "709059bb",
   "metadata": {},
   "source": [
    "## Разработка модели"
   ]
  },
  {
   "cell_type": "code",
   "execution_count": 14,
   "id": "176e92a5",
   "metadata": {},
   "outputs": [
    {
     "data": {
      "text/html": [
       "<style>#sk-container-id-1 {color: black;background-color: white;}#sk-container-id-1 pre{padding: 0;}#sk-container-id-1 div.sk-toggleable {background-color: white;}#sk-container-id-1 label.sk-toggleable__label {cursor: pointer;display: block;width: 100%;margin-bottom: 0;padding: 0.3em;box-sizing: border-box;text-align: center;}#sk-container-id-1 label.sk-toggleable__label-arrow:before {content: \"▸\";float: left;margin-right: 0.25em;color: #696969;}#sk-container-id-1 label.sk-toggleable__label-arrow:hover:before {color: black;}#sk-container-id-1 div.sk-estimator:hover label.sk-toggleable__label-arrow:before {color: black;}#sk-container-id-1 div.sk-toggleable__content {max-height: 0;max-width: 0;overflow: hidden;text-align: left;background-color: #f0f8ff;}#sk-container-id-1 div.sk-toggleable__content pre {margin: 0.2em;color: black;border-radius: 0.25em;background-color: #f0f8ff;}#sk-container-id-1 input.sk-toggleable__control:checked~div.sk-toggleable__content {max-height: 200px;max-width: 100%;overflow: auto;}#sk-container-id-1 input.sk-toggleable__control:checked~label.sk-toggleable__label-arrow:before {content: \"▾\";}#sk-container-id-1 div.sk-estimator input.sk-toggleable__control:checked~label.sk-toggleable__label {background-color: #d4ebff;}#sk-container-id-1 div.sk-label input.sk-toggleable__control:checked~label.sk-toggleable__label {background-color: #d4ebff;}#sk-container-id-1 input.sk-hidden--visually {border: 0;clip: rect(1px 1px 1px 1px);clip: rect(1px, 1px, 1px, 1px);height: 1px;margin: -1px;overflow: hidden;padding: 0;position: absolute;width: 1px;}#sk-container-id-1 div.sk-estimator {font-family: monospace;background-color: #f0f8ff;border: 1px dotted black;border-radius: 0.25em;box-sizing: border-box;margin-bottom: 0.5em;}#sk-container-id-1 div.sk-estimator:hover {background-color: #d4ebff;}#sk-container-id-1 div.sk-parallel-item::after {content: \"\";width: 100%;border-bottom: 1px solid gray;flex-grow: 1;}#sk-container-id-1 div.sk-label:hover label.sk-toggleable__label {background-color: #d4ebff;}#sk-container-id-1 div.sk-serial::before {content: \"\";position: absolute;border-left: 1px solid gray;box-sizing: border-box;top: 0;bottom: 0;left: 50%;z-index: 0;}#sk-container-id-1 div.sk-serial {display: flex;flex-direction: column;align-items: center;background-color: white;padding-right: 0.2em;padding-left: 0.2em;position: relative;}#sk-container-id-1 div.sk-item {position: relative;z-index: 1;}#sk-container-id-1 div.sk-parallel {display: flex;align-items: stretch;justify-content: center;background-color: white;position: relative;}#sk-container-id-1 div.sk-item::before, #sk-container-id-1 div.sk-parallel-item::before {content: \"\";position: absolute;border-left: 1px solid gray;box-sizing: border-box;top: 0;bottom: 0;left: 50%;z-index: -1;}#sk-container-id-1 div.sk-parallel-item {display: flex;flex-direction: column;z-index: 1;position: relative;background-color: white;}#sk-container-id-1 div.sk-parallel-item:first-child::after {align-self: flex-end;width: 50%;}#sk-container-id-1 div.sk-parallel-item:last-child::after {align-self: flex-start;width: 50%;}#sk-container-id-1 div.sk-parallel-item:only-child::after {width: 0;}#sk-container-id-1 div.sk-dashed-wrapped {border: 1px dashed gray;margin: 0 0.4em 0.5em 0.4em;box-sizing: border-box;padding-bottom: 0.4em;background-color: white;}#sk-container-id-1 div.sk-label label {font-family: monospace;font-weight: bold;display: inline-block;line-height: 1.2em;}#sk-container-id-1 div.sk-label-container {text-align: center;}#sk-container-id-1 div.sk-container {/* jupyter's `normalize.less` sets `[hidden] { display: none; }` but bootstrap.min.css set `[hidden] { display: none !important; }` so we also need the `!important` here to be able to override the default hidden behavior on the sphinx rendered scikit-learn.org. See: https://github.com/scikit-learn/scikit-learn/issues/21755 */display: inline-block !important;position: relative;}#sk-container-id-1 div.sk-text-repr-fallback {display: none;}</style><div id=\"sk-container-id-1\" class=\"sk-top-container\"><div class=\"sk-text-repr-fallback\"><pre>GridSearchCV(estimator=KNeighborsClassifier(),\n",
       "             param_grid={&#x27;n_neighbors&#x27;: [5, 10, 15, 30]})</pre><b>In a Jupyter environment, please rerun this cell to show the HTML representation or trust the notebook. <br />On GitHub, the HTML representation is unable to render, please try loading this page with nbviewer.org.</b></div><div class=\"sk-container\" hidden><div class=\"sk-item sk-dashed-wrapped\"><div class=\"sk-label-container\"><div class=\"sk-label sk-toggleable\"><input class=\"sk-toggleable__control sk-hidden--visually\" id=\"sk-estimator-id-1\" type=\"checkbox\" ><label for=\"sk-estimator-id-1\" class=\"sk-toggleable__label sk-toggleable__label-arrow\">GridSearchCV</label><div class=\"sk-toggleable__content\"><pre>GridSearchCV(estimator=KNeighborsClassifier(),\n",
       "             param_grid={&#x27;n_neighbors&#x27;: [5, 10, 15, 30]})</pre></div></div></div><div class=\"sk-parallel\"><div class=\"sk-parallel-item\"><div class=\"sk-item\"><div class=\"sk-label-container\"><div class=\"sk-label sk-toggleable\"><input class=\"sk-toggleable__control sk-hidden--visually\" id=\"sk-estimator-id-2\" type=\"checkbox\" ><label for=\"sk-estimator-id-2\" class=\"sk-toggleable__label sk-toggleable__label-arrow\">estimator: KNeighborsClassifier</label><div class=\"sk-toggleable__content\"><pre>KNeighborsClassifier()</pre></div></div></div><div class=\"sk-serial\"><div class=\"sk-item\"><div class=\"sk-estimator sk-toggleable\"><input class=\"sk-toggleable__control sk-hidden--visually\" id=\"sk-estimator-id-3\" type=\"checkbox\" ><label for=\"sk-estimator-id-3\" class=\"sk-toggleable__label sk-toggleable__label-arrow\">KNeighborsClassifier</label><div class=\"sk-toggleable__content\"><pre>KNeighborsClassifier()</pre></div></div></div></div></div></div></div></div></div></div>"
      ],
      "text/plain": [
       "GridSearchCV(estimator=KNeighborsClassifier(),\n",
       "             param_grid={'n_neighbors': [5, 10, 15, 30]})"
      ]
     },
     "execution_count": 14,
     "metadata": {},
     "output_type": "execute_result"
    }
   ],
   "source": [
    "k_neibors = KNeighborsClassifier()\n",
    "param_grid_neibors = {'n_neighbors': [5, 10, 15, 30]}\n",
    "best_k_neibors = GridSearchCV(k_neibors, param_grid_neibors)\n",
    "\n",
    "best_k_neibors.fit(X_train, y_train)"
   ]
  },
  {
   "cell_type": "code",
   "execution_count": 17,
   "id": "7265632f",
   "metadata": {},
   "outputs": [
    {
     "name": "stdout",
     "output_type": "stream",
     "text": [
      "The model is 98.52676379112785% accurate\n"
     ]
    }
   ],
   "source": [
    "best_k_neibors_pred = best_k_neibors.predict(X_test)\n",
    "print(f\"The model is {accuracy_score(best_k_neibors_pred, y_test)*100}% accurate\")"
   ]
  },
  {
   "cell_type": "code",
   "execution_count": 16,
   "id": "bedcb978",
   "metadata": {},
   "outputs": [],
   "source": [
    "model_folder = os.path.join(os.getcwd(), '../models')\n",
    "os.makedirs(model_folder, exist_ok=True)\n",
    "\n",
    "filename = '../models/k_neibors_model.sav'\n",
    "pickle.dump(best_k_neibors, open(filename, 'wb'))"
   ]
  },
  {
   "cell_type": "code",
   "execution_count": 18,
   "id": "6be9862e",
   "metadata": {},
   "outputs": [
    {
     "data": {
      "text/html": [
       "<style>#sk-container-id-2 {color: black;background-color: white;}#sk-container-id-2 pre{padding: 0;}#sk-container-id-2 div.sk-toggleable {background-color: white;}#sk-container-id-2 label.sk-toggleable__label {cursor: pointer;display: block;width: 100%;margin-bottom: 0;padding: 0.3em;box-sizing: border-box;text-align: center;}#sk-container-id-2 label.sk-toggleable__label-arrow:before {content: \"▸\";float: left;margin-right: 0.25em;color: #696969;}#sk-container-id-2 label.sk-toggleable__label-arrow:hover:before {color: black;}#sk-container-id-2 div.sk-estimator:hover label.sk-toggleable__label-arrow:before {color: black;}#sk-container-id-2 div.sk-toggleable__content {max-height: 0;max-width: 0;overflow: hidden;text-align: left;background-color: #f0f8ff;}#sk-container-id-2 div.sk-toggleable__content pre {margin: 0.2em;color: black;border-radius: 0.25em;background-color: #f0f8ff;}#sk-container-id-2 input.sk-toggleable__control:checked~div.sk-toggleable__content {max-height: 200px;max-width: 100%;overflow: auto;}#sk-container-id-2 input.sk-toggleable__control:checked~label.sk-toggleable__label-arrow:before {content: \"▾\";}#sk-container-id-2 div.sk-estimator input.sk-toggleable__control:checked~label.sk-toggleable__label {background-color: #d4ebff;}#sk-container-id-2 div.sk-label input.sk-toggleable__control:checked~label.sk-toggleable__label {background-color: #d4ebff;}#sk-container-id-2 input.sk-hidden--visually {border: 0;clip: rect(1px 1px 1px 1px);clip: rect(1px, 1px, 1px, 1px);height: 1px;margin: -1px;overflow: hidden;padding: 0;position: absolute;width: 1px;}#sk-container-id-2 div.sk-estimator {font-family: monospace;background-color: #f0f8ff;border: 1px dotted black;border-radius: 0.25em;box-sizing: border-box;margin-bottom: 0.5em;}#sk-container-id-2 div.sk-estimator:hover {background-color: #d4ebff;}#sk-container-id-2 div.sk-parallel-item::after {content: \"\";width: 100%;border-bottom: 1px solid gray;flex-grow: 1;}#sk-container-id-2 div.sk-label:hover label.sk-toggleable__label {background-color: #d4ebff;}#sk-container-id-2 div.sk-serial::before {content: \"\";position: absolute;border-left: 1px solid gray;box-sizing: border-box;top: 0;bottom: 0;left: 50%;z-index: 0;}#sk-container-id-2 div.sk-serial {display: flex;flex-direction: column;align-items: center;background-color: white;padding-right: 0.2em;padding-left: 0.2em;position: relative;}#sk-container-id-2 div.sk-item {position: relative;z-index: 1;}#sk-container-id-2 div.sk-parallel {display: flex;align-items: stretch;justify-content: center;background-color: white;position: relative;}#sk-container-id-2 div.sk-item::before, #sk-container-id-2 div.sk-parallel-item::before {content: \"\";position: absolute;border-left: 1px solid gray;box-sizing: border-box;top: 0;bottom: 0;left: 50%;z-index: -1;}#sk-container-id-2 div.sk-parallel-item {display: flex;flex-direction: column;z-index: 1;position: relative;background-color: white;}#sk-container-id-2 div.sk-parallel-item:first-child::after {align-self: flex-end;width: 50%;}#sk-container-id-2 div.sk-parallel-item:last-child::after {align-self: flex-start;width: 50%;}#sk-container-id-2 div.sk-parallel-item:only-child::after {width: 0;}#sk-container-id-2 div.sk-dashed-wrapped {border: 1px dashed gray;margin: 0 0.4em 0.5em 0.4em;box-sizing: border-box;padding-bottom: 0.4em;background-color: white;}#sk-container-id-2 div.sk-label label {font-family: monospace;font-weight: bold;display: inline-block;line-height: 1.2em;}#sk-container-id-2 div.sk-label-container {text-align: center;}#sk-container-id-2 div.sk-container {/* jupyter's `normalize.less` sets `[hidden] { display: none; }` but bootstrap.min.css set `[hidden] { display: none !important; }` so we also need the `!important` here to be able to override the default hidden behavior on the sphinx rendered scikit-learn.org. See: https://github.com/scikit-learn/scikit-learn/issues/21755 */display: inline-block !important;position: relative;}#sk-container-id-2 div.sk-text-repr-fallback {display: none;}</style><div id=\"sk-container-id-2\" class=\"sk-top-container\"><div class=\"sk-text-repr-fallback\"><pre>GridSearchCV(estimator=RandomForestClassifier(),\n",
       "             param_grid={&#x27;n_estimators&#x27;: [10, 20, 50],\n",
       "                         &#x27;random_state&#x27;: [0, 5, 20, 40]})</pre><b>In a Jupyter environment, please rerun this cell to show the HTML representation or trust the notebook. <br />On GitHub, the HTML representation is unable to render, please try loading this page with nbviewer.org.</b></div><div class=\"sk-container\" hidden><div class=\"sk-item sk-dashed-wrapped\"><div class=\"sk-label-container\"><div class=\"sk-label sk-toggleable\"><input class=\"sk-toggleable__control sk-hidden--visually\" id=\"sk-estimator-id-4\" type=\"checkbox\" ><label for=\"sk-estimator-id-4\" class=\"sk-toggleable__label sk-toggleable__label-arrow\">GridSearchCV</label><div class=\"sk-toggleable__content\"><pre>GridSearchCV(estimator=RandomForestClassifier(),\n",
       "             param_grid={&#x27;n_estimators&#x27;: [10, 20, 50],\n",
       "                         &#x27;random_state&#x27;: [0, 5, 20, 40]})</pre></div></div></div><div class=\"sk-parallel\"><div class=\"sk-parallel-item\"><div class=\"sk-item\"><div class=\"sk-label-container\"><div class=\"sk-label sk-toggleable\"><input class=\"sk-toggleable__control sk-hidden--visually\" id=\"sk-estimator-id-5\" type=\"checkbox\" ><label for=\"sk-estimator-id-5\" class=\"sk-toggleable__label sk-toggleable__label-arrow\">estimator: RandomForestClassifier</label><div class=\"sk-toggleable__content\"><pre>RandomForestClassifier()</pre></div></div></div><div class=\"sk-serial\"><div class=\"sk-item\"><div class=\"sk-estimator sk-toggleable\"><input class=\"sk-toggleable__control sk-hidden--visually\" id=\"sk-estimator-id-6\" type=\"checkbox\" ><label for=\"sk-estimator-id-6\" class=\"sk-toggleable__label sk-toggleable__label-arrow\">RandomForestClassifier</label><div class=\"sk-toggleable__content\"><pre>RandomForestClassifier()</pre></div></div></div></div></div></div></div></div></div></div>"
      ],
      "text/plain": [
       "GridSearchCV(estimator=RandomForestClassifier(),\n",
       "             param_grid={'n_estimators': [10, 20, 50],\n",
       "                         'random_state': [0, 5, 20, 40]})"
      ]
     },
     "execution_count": 18,
     "metadata": {},
     "output_type": "execute_result"
    }
   ],
   "source": [
    "forest = RandomForestClassifier()\n",
    "param_grid_forest = {\n",
    "    'n_estimators': [10, 20, 50],\n",
    "    'random_state': [0, 5, 20, 40]\n",
    "}\n",
    "best_forest = GridSearchCV(forest, param_grid_forest)\n",
    "best_forest.fit(X_train, y_train)"
   ]
  },
  {
   "cell_type": "code",
   "execution_count": 20,
   "id": "f42bc5c7",
   "metadata": {},
   "outputs": [
    {
     "name": "stdout",
     "output_type": "stream",
     "text": [
      "The model is 98.39580946145033% accurate\n"
     ]
    }
   ],
   "source": [
    "best_forest_pred = best_forest.predict(X_test)\n",
    "print(f\"The model is {accuracy_score(best_forest_pred, y_test)*100}% accurate\")"
   ]
  },
  {
   "cell_type": "code",
   "execution_count": 19,
   "id": "e6127149",
   "metadata": {},
   "outputs": [],
   "source": [
    "model_folder = os.path.join(os.getcwd(), '../models')\n",
    "os.makedirs(model_folder, exist_ok=True)\n",
    "\n",
    "filename = '../models/forest_model.sav'\n",
    "pickle.dump(best_forest, open(filename, 'wb'))"
   ]
  },
  {
   "cell_type": "code",
   "execution_count": 1,
   "id": "a86c2590",
   "metadata": {},
   "outputs": [
    {
     "ename": "NameError",
     "evalue": "name 'svm' is not defined",
     "output_type": "error",
     "traceback": [
      "\u001b[0;31m---------------------------------------------------------------------------\u001b[0m",
      "\u001b[0;31mNameError\u001b[0m                                 Traceback (most recent call last)",
      "Cell \u001b[0;32mIn [1], line 2\u001b[0m\n\u001b[1;32m      1\u001b[0m param_grid\u001b[38;5;241m=\u001b[39m{\u001b[38;5;124m'\u001b[39m\u001b[38;5;124mC\u001b[39m\u001b[38;5;124m'\u001b[39m:[\u001b[38;5;241m0.1\u001b[39m,\u001b[38;5;241m1\u001b[39m,\u001b[38;5;241m10\u001b[39m,\u001b[38;5;241m100\u001b[39m],\u001b[38;5;124m'\u001b[39m\u001b[38;5;124mgamma\u001b[39m\u001b[38;5;124m'\u001b[39m:[\u001b[38;5;241m0.0001\u001b[39m,\u001b[38;5;241m0.001\u001b[39m,\u001b[38;5;241m0.1\u001b[39m,\u001b[38;5;241m1\u001b[39m],\u001b[38;5;124m'\u001b[39m\u001b[38;5;124mkernel\u001b[39m\u001b[38;5;124m'\u001b[39m:[\u001b[38;5;124m'\u001b[39m\u001b[38;5;124mrbf\u001b[39m\u001b[38;5;124m'\u001b[39m,\u001b[38;5;124m'\u001b[39m\u001b[38;5;124mpoly\u001b[39m\u001b[38;5;124m'\u001b[39m]}\n\u001b[0;32m----> 2\u001b[0m svc_with_grid_search \u001b[38;5;241m=\u001b[39m \u001b[43msvm\u001b[49m\u001b[38;5;241m.\u001b[39mSVC(probability\u001b[38;5;241m=\u001b[39m\u001b[38;5;28;01mTrue\u001b[39;00m)\n\u001b[1;32m      3\u001b[0m svc_with_grid_search \u001b[38;5;241m=\u001b[39m GridSearchCV(svc,param_grid)\n",
      "\u001b[0;31mNameError\u001b[0m: name 'svm' is not defined"
     ]
    }
   ],
   "source": [
    "# Мой компьбтер не в состоянии это выдержать ;(\n",
    "param_grid={'C':[0.1,1,10,100],'gamma':[0.0001,0.001,0.1,1],'kernel':['rbf','poly']}\n",
    "svc_with_grid_search = svm.SVC(probability=True)\n",
    "svc_with_grid_search = GridSearchCV(svc,param_grid)\n",
    "best_svc.fit(X_train, y_train)"
   ]
  },
  {
   "cell_type": "code",
   "execution_count": null,
   "id": "ee18abff",
   "metadata": {},
   "outputs": [],
   "source": [
    "svc_poly = svm.SVC(kernel='poly', degree=8)\n",
    "\n",
    "svc_poly.fit(X_train, y_train)\n",
    "svc_poly_predicted = svc_poly.predict(X_test)"
   ]
  },
  {
   "cell_type": "code",
   "execution_count": null,
   "id": "b4dfe8cb",
   "metadata": {},
   "outputs": [],
   "source": [
    "print(f\"The model is {accuracy_score(svc_poly_predicted, y_test)*100}% accurate\")"
   ]
  },
  {
   "cell_type": "code",
   "execution_count": null,
   "id": "6f1d9bd5",
   "metadata": {},
   "outputs": [],
   "source": [
    "model_folder = os.path.join(os.getcwd(), '../models')\n",
    "os.makedirs(model_folder, exist_ok=True)\n",
    "\n",
    "filename = '../models/svc_poly.sav'\n",
    "pickle.dump(svc_poly, open(filename, 'wb'))"
   ]
  },
  {
   "cell_type": "markdown",
   "id": "468c916c",
   "metadata": {},
   "source": [
    "Предобработка данных для обучения нейронки"
   ]
  },
  {
   "cell_type": "code",
   "execution_count": 15,
   "id": "8eb09e6b",
   "metadata": {
    "scrolled": true
   },
   "outputs": [
    {
     "data": {
      "image/png": "[encoded data removed]",
      "text/plain": [
       "<Figure size 640x480 with 1 Axes>"
      ]
     },
     "metadata": {},
     "output_type": "display_data"
    }
   ],
   "source": [
    "X_nn_train = X_train.reshape(36447, 28, 28)\n",
    "X_nn_test = X_test.reshape(6109, 28, 28)\n",
    "plotting = plt.imshow(X_nn_train[0], cmap='gray_r')\n",
    "plt.show()\n"
   ]
  },
  {
   "cell_type": "code",
   "execution_count": 16,
   "id": "98abb318",
   "metadata": {},
   "outputs": [
    {
     "name": "stderr",
     "output_type": "stream",
     "text": [
      "2022-11-19 16:16:42.223866: W tensorflow/compiler/xla/stream_executor/platform/default/dso_loader.cc:64] Could not load dynamic library 'libcuda.so.1'; dlerror: libcuda.so.1: cannot open shared object file: No such file or directory; LD_LIBRARY_PATH: /home/alexstr/Dev/data_science_diplom/venv/lib/python3.8/site-packages/cv2/../../lib64:\n",
      "2022-11-19 16:16:42.223916: W tensorflow/compiler/xla/stream_executor/cuda/cuda_driver.cc:265] failed call to cuInit: UNKNOWN ERROR (303)\n",
      "2022-11-19 16:16:42.223930: I tensorflow/compiler/xla/stream_executor/cuda/cuda_diagnostics.cc:156] kernel driver does not appear to be running on this host (DESKTOP-PELI220): /proc/driver/nvidia/version does not exist\n",
      "2022-11-19 16:16:42.224124: I tensorflow/core/platform/cpu_feature_guard.cc:193] This TensorFlow binary is optimized with oneAPI Deep Neural Network Library (oneDNN) to use the following CPU instructions in performance-critical operations:  AVX2 AVX512F AVX512_VNNI FMA\n",
      "To enable them in other operations, rebuild TensorFlow with the appropriate compiler flags.\n"
     ]
    }
   ],
   "source": [
    "model = tf.keras.Sequential([\n",
    "    tf.keras.layers.Flatten(input_shape=(28, 28)),\n",
    "    tf.keras.layers.Dense(128, activation='relu'),\n",
    "    tf.keras.layers.Dense(64, activation='relu'),\n",
    "    tf.keras.layers.Dense(7)\n",
    "])\n",
    "\n",
    "model.compile(optimizer='adam',\n",
    "              loss=tf.keras.losses.SparseCategoricalCrossentropy(from_logits=True),\n",
    "              metrics=['accuracy'])"
   ]
  },
  {
   "cell_type": "code",
   "execution_count": 17,
   "id": "b4e166cd",
   "metadata": {},
   "outputs": [
    {
     "name": "stdout",
     "output_type": "stream",
     "text": [
      "Epoch 1/30\n",
      "798/798 [==============================] - 3s 3ms/step - loss: 0.1672 - accuracy: 0.9504 - val_loss: 0.3624 - val_accuracy: 0.9363\n",
      "Epoch 2/30\n",
      "798/798 [==============================] - 2s 2ms/step - loss: 0.0590 - accuracy: 0.9811 - val_loss: 0.4295 - val_accuracy: 0.9418\n",
      "Epoch 3/30\n",
      "798/798 [==============================] - 2s 2ms/step - loss: 0.0359 - accuracy: 0.9884 - val_loss: 0.4410 - val_accuracy: 0.9446\n",
      "Epoch 4/30\n",
      "798/798 [==============================] - 2s 2ms/step - loss: 0.0245 - accuracy: 0.9918 - val_loss: 0.5233 - val_accuracy: 0.9428\n",
      "Epoch 5/30\n",
      "798/798 [==============================] - 2s 2ms/step - loss: 0.0198 - accuracy: 0.9937 - val_loss: 0.5269 - val_accuracy: 0.9447\n",
      "Epoch 6/30\n",
      "798/798 [==============================] - 2s 3ms/step - loss: 0.0136 - accuracy: 0.9952 - val_loss: 0.6080 - val_accuracy: 0.9447\n",
      "Epoch 7/30\n",
      "798/798 [==============================] - 2s 2ms/step - loss: 0.0115 - accuracy: 0.9964 - val_loss: 0.6969 - val_accuracy: 0.9412\n",
      "Epoch 8/30\n",
      "798/798 [==============================] - 2s 2ms/step - loss: 0.0122 - accuracy: 0.9958 - val_loss: 0.5662 - val_accuracy: 0.9459\n",
      "Epoch 9/30\n",
      "798/798 [==============================] - 2s 2ms/step - loss: 0.0098 - accuracy: 0.9972 - val_loss: 0.6233 - val_accuracy: 0.9459\n",
      "Epoch 10/30\n",
      "798/798 [==============================] - 2s 3ms/step - loss: 0.0064 - accuracy: 0.9979 - val_loss: 0.6655 - val_accuracy: 0.9439\n",
      "Epoch 11/30\n",
      "798/798 [==============================] - 2s 2ms/step - loss: 0.0091 - accuracy: 0.9975 - val_loss: 0.6555 - val_accuracy: 0.9428\n",
      "Epoch 12/30\n",
      "798/798 [==============================] - 2s 2ms/step - loss: 0.0068 - accuracy: 0.9976 - val_loss: 0.7971 - val_accuracy: 0.9449\n",
      "Epoch 13/30\n",
      "798/798 [==============================] - 2s 2ms/step - loss: 0.0029 - accuracy: 0.9991 - val_loss: 0.8415 - val_accuracy: 0.9455\n",
      "Epoch 14/30\n",
      "798/798 [==============================] - 2s 2ms/step - loss: 0.0058 - accuracy: 0.9981 - val_loss: 0.8424 - val_accuracy: 0.9387\n",
      "Epoch 15/30\n",
      "798/798 [==============================] - 2s 2ms/step - loss: 0.0088 - accuracy: 0.9974 - val_loss: 0.7933 - val_accuracy: 0.9450\n",
      "Epoch 16/30\n",
      "798/798 [==============================] - 2s 2ms/step - loss: 0.0028 - accuracy: 0.9993 - val_loss: 0.9029 - val_accuracy: 0.9418\n",
      "Epoch 17/30\n",
      "798/798 [==============================] - 2s 2ms/step - loss: 0.0041 - accuracy: 0.9987 - val_loss: 0.9156 - val_accuracy: 0.9456\n",
      "Epoch 18/30\n",
      "798/798 [==============================] - 2s 2ms/step - loss: 0.0046 - accuracy: 0.9989 - val_loss: 0.9277 - val_accuracy: 0.9452\n",
      "Epoch 19/30\n",
      "798/798 [==============================] - 2s 2ms/step - loss: 3.7778e-04 - accuracy: 0.9999 - val_loss: 0.9678 - val_accuracy: 0.9470\n",
      "Epoch 20/30\n",
      "798/798 [==============================] - 2s 2ms/step - loss: 0.0022 - accuracy: 0.9993 - val_loss: 1.0554 - val_accuracy: 0.9424\n",
      "Epoch 21/30\n",
      "798/798 [==============================] - 2s 2ms/step - loss: 0.0100 - accuracy: 0.9970 - val_loss: 0.9127 - val_accuracy: 0.9411\n",
      "Epoch 22/30\n",
      "798/798 [==============================] - 2s 2ms/step - loss: 0.0021 - accuracy: 0.9994 - val_loss: 1.0231 - val_accuracy: 0.9461\n",
      "Epoch 23/30\n",
      "798/798 [==============================] - 2s 2ms/step - loss: 0.0020 - accuracy: 0.9994 - val_loss: 1.0230 - val_accuracy: 0.9464\n",
      "Epoch 24/30\n",
      "798/798 [==============================] - 2s 2ms/step - loss: 0.0070 - accuracy: 0.9975 - val_loss: 1.0981 - val_accuracy: 0.9466\n",
      "Epoch 25/30\n",
      "798/798 [==============================] - 2s 2ms/step - loss: 0.0045 - accuracy: 0.9985 - val_loss: 1.0479 - val_accuracy: 0.9470\n",
      "Epoch 26/30\n",
      "798/798 [==============================] - 2s 2ms/step - loss: 0.0019 - accuracy: 0.9997 - val_loss: 1.0634 - val_accuracy: 0.9462\n",
      "Epoch 27/30\n",
      "798/798 [==============================] - 2s 2ms/step - loss: 0.0025 - accuracy: 0.9991 - val_loss: 1.1847 - val_accuracy: 0.9418\n",
      "Epoch 28/30\n",
      "798/798 [==============================] - 2s 2ms/step - loss: 0.0050 - accuracy: 0.9983 - val_loss: 1.0282 - val_accuracy: 0.9433\n",
      "Epoch 29/30\n",
      "798/798 [==============================] - 2s 3ms/step - loss: 0.0045 - accuracy: 0.9989 - val_loss: 1.0726 - val_accuracy: 0.9449\n",
      "Epoch 30/30\n",
      "798/798 [==============================] - 2s 3ms/step - loss: 0.0027 - accuracy: 0.9993 - val_loss: 1.2192 - val_accuracy: 0.9465\n",
      "Точность на тестовом множестве: 0.9769192934036255\n"
     ]
    }
   ],
   "source": [
    "model.fit(X_nn_train, y_train, epochs=30, validation_split=0.3)\n",
    "\n",
    "test_loss, test_acc = model.evaluate(X_nn_test,  y_test, verbose=0)\n",
    "\n",
    "print('Точность на тестовом множестве:', test_acc)"
   ]
  },
  {
   "cell_type": "code",
   "execution_count": 21,
   "id": "d3c707e3",
   "metadata": {},
   "outputs": [],
   "source": [
    "model.save('../models/nn_model.h5', save_format=\"h5\")"
   ]
  },
  {
   "cell_type": "code",
   "execution_count": 20,
   "id": "5a07b5d2",
   "metadata": {},
   "outputs": [
    {
     "data": {
      "text/plain": [
       "2.0"
      ]
     },
     "execution_count": 20,
     "metadata": {},
     "output_type": "execute_result"
    }
   ],
   "source": [
    "y_test[0]"
   ]
  },
  {
   "cell_type": "code",
   "execution_count": null,
   "id": "2b93f10c",
   "metadata": {},
   "outputs": [],
   "source": []
  }
 ],
 "metadata": {
  "kernelspec": {
   "display_name": "Python 3 (ipykernel)",
   "language": "python",
   "name": "python3"
  },
  "language_info": {
   "codemirror_mode": {
    "name": "ipython",
    "version": 3
   },
   "file_extension": ".py",
   "mimetype": "text/x-python",
   "name": "python",
   "nbconvert_exporter": "python",
   "pygments_lexer": "ipython3",
   "version": "3.8.10"
  }
 },
 "nbformat": 4,
 "nbformat_minor": 5
}
